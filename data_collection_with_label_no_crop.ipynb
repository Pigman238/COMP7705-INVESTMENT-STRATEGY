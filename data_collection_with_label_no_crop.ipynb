{
  "cells": [
    {
      "cell_type": "code",
      "source": [
        "from google.colab import drive\n",
        "drive.mount('/content/drive')"
      ],
      "metadata": {
        "colab": {
          "base_uri": "https://localhost:8080/"
        },
        "id": "7GcvBIO9N1ua",
        "outputId": "d53d3227-0dbe-449b-dca8-642fb7c6b42b"
      },
      "id": "7GcvBIO9N1ua",
      "execution_count": null,
      "outputs": [
        {
          "output_type": "stream",
          "name": "stdout",
          "text": [
            "Mounted at /content/drive\n"
          ]
        }
      ]
    },
    {
      "cell_type": "code",
      "source": [
        "!pip install mplfinance\n",
        "!pip install efinance\n",
        "!pip install yfinance\n",
        "\n",
        "!wget http://prdownloads.sourceforge.net/ta-lib/ta-lib-0.4.0-src.tar.gz\n",
        "!tar xvzf ta-lib-0.4.0-src.tar.gz\n",
        "import os\n",
        "os.chdir('ta-lib')\n",
        "!./configure --prefix=/usr\n",
        "!make\n",
        "!make install\n",
        "\n",
        "os.chdir('../')\n",
        "!pip install TA-Lib"
      ],
      "metadata": {
        "id": "jeMZcwE0NbiX"
      },
      "id": "jeMZcwE0NbiX",
      "execution_count": null,
      "outputs": []
    },
    {
      "cell_type": "code",
      "execution_count": null,
      "id": "003af72e-d8a7-4069-8a0e-9762468519b1",
      "metadata": {
        "id": "003af72e-d8a7-4069-8a0e-9762468519b1"
      },
      "outputs": [],
      "source": [
        "import pandas as pd\n",
        "import numpy as np\n",
        "import mplfinance as mpf\n",
        "import matplotlib.pyplot as plt\n",
        "import pandas as pd\n",
        "import talib as ta\n",
        "import yfinance as yf"
      ]
    },
    {
      "cell_type": "code",
      "execution_count": null,
      "id": "c9e15f31",
      "metadata": {
        "id": "c9e15f31"
      },
      "outputs": [],
      "source": [
        "stock_codes1 = [\"^GDAXI\",\"^STOXX50E\",\"^DJI\",\"^GSPC\",\"^IXIC\",\"000001.SS\",\"399001.SZ\",\"^HSI\",\"^N225\"]\n",
        "stock_codes1"
      ]
    },
    {
      "cell_type": "markdown",
      "source": [
        "# Data collection"
      ],
      "metadata": {
        "id": "4pmGuiCdYN5M"
      },
      "id": "4pmGuiCdYN5M"
    },
    {
      "cell_type": "code",
      "execution_count": null,
      "id": "18e14c74-fdf4-4204-95bd-0c9a1d891f3e",
      "metadata": {
        "scrolled": true,
        "id": "18e14c74-fdf4-4204-95bd-0c9a1d891f3e"
      },
      "outputs": [],
      "source": [
        "def calculate_ma(df, ma_periods=[5,10,20,30,60]):\n",
        "    for period in ma_periods:\n",
        "        df[f'{period}日均线'] = df['Close'].rolling(period).mean()\n",
        "    return df\n",
        "\n",
        "stock_codes = stock_codes1[0:] #data number\n",
        "for each in stock_codes:\n",
        "    data = yf.Ticker(each).history(start=\"2015-01-01\", end=\"2019-12-31\", interval=\"1d\")\n",
        "    df = data.loc[:, ['Open', 'High', 'Low', 'Close', 'Volume']]\n",
        "    df = df.rename_axis('Date')\n",
        "    # print(df)\n",
        "    if len(df)==0:\n",
        "        continue\n",
        "\n",
        "    # MA\n",
        "    df = calculate_ma(df)\n",
        "\n",
        "    year = list(set(df.index.year))\n",
        "\n",
        "    # Calculate MACD using talib\n",
        "    df['macd'], df['macd_signal'], df['macd_hist'] = ta.MACD(df['Close'].values, fastperiod=12, slowperiod=26, signalperiod=9)\n",
        "\n",
        "    for i in year:\n",
        "        temp_y = df[df.index.year == i]\n",
        "        month = list(set(temp_y.index.month))\n",
        "        for j in month:\n",
        "            temp_m = temp_y[temp_y.index.month == j]\n",
        "            has_nan = temp_m.isna().any().any().any()\n",
        "            if has_nan == 1:\n",
        "                continue\n",
        "            # MA chart\n",
        "            ma_periods = [5, 10, 20, 30, 60]\n",
        "            ma_plots = [mpf.make_addplot(temp_m[f'{period}日均线'], panel=0, ylabel='', title='') for period in ma_periods]\n",
        "            # 假设 temp_m.index.min() 是一个 tz-aware Timestamp\n",
        "            # 获取 temp_m.index.min() 的时区信息\n",
        "            min_date = temp_m.index.min()\n",
        "            min_date_tz = min_date.tzinfo\n",
        "            start_date = pd.to_datetime(\"20140101\").tz_localize(min_date_tz)\n",
        "\n",
        "            if min_date > start_date:\n",
        "                # MACD chart\n",
        "                ap = []\n",
        "                ap.append(mpf.make_addplot(temp_m['macd'], panel=2, color='fuchsia'))\n",
        "                ap.append(mpf.make_addplot(temp_m['macd_signal'], panel=2, color='b'))\n",
        "                colors = ['g' if v <= 0 else 'r' for v in temp_m[\"macd_hist\"]]\n",
        "                ap.append(mpf.make_addplot(temp_m['macd_hist'], panel=2, type='bar', color=colors))\n",
        "                s = mpf.make_mpf_style(base_mpf_style='yahoo', mavcolors=['c', 'lime'])\n",
        "                save_path = r'/content/drive/MyDrive/data521351/'\n",
        "                filename = f\"chart_{each}_{i}_{j}.png\"\n",
        "                mpf.plot(temp_m, addplot=ap+ma_plots, figratio=(40,20), panel_ratios=[2,2,2], type='candle', style=s, volume=True, volume_panel=1, savefig=save_path + filename,\n",
        "                         ylabel='', ylabel_lower='', title='', )\n"
      ]
    },
    {
      "cell_type": "markdown",
      "source": [
        "# Label"
      ],
      "metadata": {
        "id": "EuWUJysoYbhc"
      },
      "id": "EuWUJysoYbhc"
    },
    {
      "cell_type": "code",
      "source": [
        "#生成label\n",
        "import pandas as pd\n",
        "import yfinance as yf\n",
        "import os\n",
        "import calendar\n",
        "from datetime import datetime\n",
        "\n",
        "# image_dir = \"C:/Users/YANGJ/Downloads/Project小组/datagood/data_2000_3000\"\n",
        "# output_csv = \"C:/Users/YANGJ/Downloads/Project小组/datatest/labels.csv\"\n",
        "\n",
        "image_dir = \"/content/drive/MyDrive/data521/\"\n",
        "output_csv = \"/content/drive/MyDrive/data521/labels.csv\"\n",
        "\n",
        "# Create an empty DataFrame to store the labels\n",
        "labels_df = pd.DataFrame(columns=[\"Stock Code\", \"Year\", \"Month\", \"Label\"])\n",
        "\n",
        "# Iterate through the images in the directory\n",
        "image_list = os.listdir(image_dir)\n",
        "print(image_list)\n",
        "for image_file in image_list:\n",
        "    if image_file.endswith('.png'):\n",
        "        # Extract stock code, year, and month from the image filename\n",
        "        stock_code, year, month = image_file.split(\"_\")[1:4]\n",
        "        month = month.replace(\".png\", \"\")\n",
        "         # Format the month string with leading zero if necessary\n",
        "        month_str = month if len(month) == 2 else f\"0{month}\"\n",
        "\n",
        "         # Construct the date range for fetching the stock data\n",
        "        num_days = calendar.monthrange(int(year), int(month))[1]\n",
        "        start_date = f\"{year}{month_str}01\"\n",
        "        start_date = datetime.strptime(start_date, '%Y%m%d').strftime('%Y-%m-%d')\n",
        "        end_date = f\"{year}{month_str}{num_days}\"\n",
        "        end_date = datetime.strptime(end_date, '%Y%m%d').strftime('%Y-%m-%d')\n",
        "\n",
        "        # Load the stock price data from Yahoo Finance\n",
        "        ticker = yf.Ticker(stock_code)\n",
        "        print(start_date)\n",
        "        print(end_date)\n",
        "        data = ticker.history(start=start_date, end=end_date)\n",
        "        # print(data['Date '])\n",
        "        # data['Date'] = pd.to_datetime(data['Date'])\n",
        "        # data = data.set_index('Date')\n",
        "        df = data.loc[:, ['Open', 'High', 'Low', 'Close', 'Volume']]\n",
        "        df = df.rename_axis('Date')\n",
        "        # df = df.rename(columns={'开盘': 'Open', '最高': 'High', '最低': 'Low', '收盘': 'Close', '成交量': 'Volume'})\n",
        "        stock_data = df\n",
        "        #stock_data = yf.download(stock_code, start=start_date, end=end_date)\n",
        "\n",
        "        # Calculate the label based on the price change\n",
        "        print(stock_data.iloc[0])\n",
        "        first_price = stock_data.iloc[0][\"Close\"]\n",
        "        last_price = stock_data.iloc[-1][\"Close\"]\n",
        "        label1 = 1 if last_price > first_price else 0\n",
        "        label2 = (last_price-first_price)/first_price\n",
        "\n",
        "        # Append the label to the DataFrame\n",
        "        labels_df = labels_df._append({\"Stock Code\": stock_code, \"Year\": year, \"Month\": month, \"Return\": label2, \"Rise\": label1}, ignore_index=True)\n",
        "\n",
        "# Save the labels to a CSV file\n",
        "labels_df.to_csv(output_csv, index=False)\n",
        "\n",
        "print(\"Label generation complete!\")"
      ],
      "metadata": {
        "id": "KmSRs05wg5yc"
      },
      "id": "KmSRs05wg5yc",
      "execution_count": null,
      "outputs": []
    }
  ],
  "metadata": {
    "kernelspec": {
      "display_name": "Python 3",
      "name": "python3"
    },
    "language_info": {
      "codemirror_mode": {
        "name": "ipython",
        "version": 3
      },
      "file_extension": ".py",
      "mimetype": "text/x-python",
      "name": "python",
      "nbconvert_exporter": "python",
      "pygments_lexer": "ipython3",
      "version": "3.11.5"
    },
    "colab": {
      "provenance": [],
      "gpuType": "V28"
    },
    "accelerator": "TPU"
  },
  "nbformat": 4,
  "nbformat_minor": 5
}